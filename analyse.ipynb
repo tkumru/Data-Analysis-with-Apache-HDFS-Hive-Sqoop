{
 "cells": [
  {
   "cell_type": "markdown",
   "metadata": {},
   "source": [
    "### Library"
   ]
  },
  {
   "cell_type": "code",
   "execution_count": 1,
   "metadata": {},
   "outputs": [],
   "source": [
    "import pandas as pd"
   ]
  },
  {
   "cell_type": "markdown",
   "metadata": {},
   "source": [
    "Imported libraries what will use."
   ]
  },
  {
   "cell_type": "markdown",
   "metadata": {},
   "source": [
    "### Analyze Datas"
   ]
  },
  {
   "cell_type": "code",
   "execution_count": 5,
   "metadata": {},
   "outputs": [
    {
     "data": {
      "text/html": [
       "<div>\n",
       "<style scoped>\n",
       "    .dataframe tbody tr th:only-of-type {\n",
       "        vertical-align: middle;\n",
       "    }\n",
       "\n",
       "    .dataframe tbody tr th {\n",
       "        vertical-align: top;\n",
       "    }\n",
       "\n",
       "    .dataframe thead th {\n",
       "        text-align: right;\n",
       "    }\n",
       "</style>\n",
       "<table border=\"1\" class=\"dataframe\">\n",
       "  <thead>\n",
       "    <tr style=\"text-align: right;\">\n",
       "      <th></th>\n",
       "      <th>master_id</th>\n",
       "      <th>order_channel</th>\n",
       "      <th>platform_type</th>\n",
       "      <th>last_order_channel</th>\n",
       "      <th>first_order_date</th>\n",
       "      <th>last_order_date</th>\n",
       "      <th>last_order_date_online</th>\n",
       "      <th>last_order_date_offline</th>\n",
       "      <th>order_num_total_ever_online</th>\n",
       "      <th>order_num_total_ever_offline</th>\n",
       "      <th>customer_value_total_ever_offline</th>\n",
       "      <th>customer_value_total_ever_online</th>\n",
       "      <th>interested_in_categories_12</th>\n",
       "      <th>online_product_group_amount_top_name_12</th>\n",
       "      <th>offline_product_group_name_12</th>\n",
       "      <th>last_order_date_new</th>\n",
       "      <th>store_type</th>\n",
       "    </tr>\n",
       "  </thead>\n",
       "  <tbody>\n",
       "    <tr>\n",
       "      <th>0</th>\n",
       "      <td>b3ace094-a17f-11e9-a2fc-000d3a38a36f</td>\n",
       "      <td>Offline</td>\n",
       "      <td>Offline</td>\n",
       "      <td>Offline</td>\n",
       "      <td>2019-02-23T12:59:17.000+03:00</td>\n",
       "      <td>2019-02-23T12:59:17.000+03:00</td>\n",
       "      <td>NaN</td>\n",
       "      <td>2019-02-23T12:59:17.000+03:00</td>\n",
       "      <td>NaN</td>\n",
       "      <td>1.0</td>\n",
       "      <td>212.98</td>\n",
       "      <td>0.00</td>\n",
       "      <td>NaN</td>\n",
       "      <td>NaN</td>\n",
       "      <td>NaN</td>\n",
       "      <td>2019-02-23</td>\n",
       "      <td>A</td>\n",
       "    </tr>\n",
       "    <tr>\n",
       "      <th>1</th>\n",
       "      <td>c57d7c4c-a950-11e9-a2fc-000d3a38a36f</td>\n",
       "      <td>Offline</td>\n",
       "      <td>OmniChannel</td>\n",
       "      <td>Offline</td>\n",
       "      <td>2019-12-01T16:48:09.000+03:00</td>\n",
       "      <td>2019-12-01T16:48:09.000+03:00</td>\n",
       "      <td>NaN</td>\n",
       "      <td>2019-12-01T16:48:09.000+03:00</td>\n",
       "      <td>NaN</td>\n",
       "      <td>1.0</td>\n",
       "      <td>199.98</td>\n",
       "      <td>0.00</td>\n",
       "      <td>NaN</td>\n",
       "      <td>NaN</td>\n",
       "      <td>NaN</td>\n",
       "      <td>2019-12-01</td>\n",
       "      <td>A</td>\n",
       "    </tr>\n",
       "    <tr>\n",
       "      <th>2</th>\n",
       "      <td>602897a6-cdac-11ea-b31f-000d3a38a36f</td>\n",
       "      <td>Offline</td>\n",
       "      <td>Offline</td>\n",
       "      <td>Offline</td>\n",
       "      <td>2020-07-24T15:49:47.000+03:00</td>\n",
       "      <td>2020-07-24T15:49:47.000+03:00</td>\n",
       "      <td>NaN</td>\n",
       "      <td>2020-07-24T15:49:47.000+03:00</td>\n",
       "      <td>NaN</td>\n",
       "      <td>1.0</td>\n",
       "      <td>140.49</td>\n",
       "      <td>0.00</td>\n",
       "      <td>[ERKEK]</td>\n",
       "      <td>NaN</td>\n",
       "      <td>ERKEK</td>\n",
       "      <td>2020-07-24</td>\n",
       "      <td>A</td>\n",
       "    </tr>\n",
       "    <tr>\n",
       "      <th>3</th>\n",
       "      <td>388e4c4e-af86-11e9-a2fc-000d3a38a36f</td>\n",
       "      <td>Mobile</td>\n",
       "      <td>Online</td>\n",
       "      <td>Mobile</td>\n",
       "      <td>2018-12-31T07:22:07.000+03:00</td>\n",
       "      <td>2018-12-31T07:22:07.000+03:00</td>\n",
       "      <td>2018-12-31T07:22:07.000+03:00</td>\n",
       "      <td>NaN</td>\n",
       "      <td>1.0</td>\n",
       "      <td>NaN</td>\n",
       "      <td>0.00</td>\n",
       "      <td>174.99</td>\n",
       "      <td>NaN</td>\n",
       "      <td>NaN</td>\n",
       "      <td>NaN</td>\n",
       "      <td>2018-12-31</td>\n",
       "      <td>A</td>\n",
       "    </tr>\n",
       "    <tr>\n",
       "      <th>4</th>\n",
       "      <td>80664354-adf0-11eb-8f64-000d3a299ebf</td>\n",
       "      <td>Desktop</td>\n",
       "      <td>Online</td>\n",
       "      <td>Desktop</td>\n",
       "      <td>2021-05-05T21:07:02.000+03:00</td>\n",
       "      <td>2021-05-05T22:39:36.000+03:00</td>\n",
       "      <td>2021-05-05T22:39:36.000+03:00</td>\n",
       "      <td>NaN</td>\n",
       "      <td>2.0</td>\n",
       "      <td>NaN</td>\n",
       "      <td>0.00</td>\n",
       "      <td>283.95</td>\n",
       "      <td>[]</td>\n",
       "      <td>NaN</td>\n",
       "      <td>NaN</td>\n",
       "      <td>2021-05-05</td>\n",
       "      <td>A</td>\n",
       "    </tr>\n",
       "  </tbody>\n",
       "</table>\n",
       "</div>"
      ],
      "text/plain": [
       "                              master_id order_channel platform_type  \\\n",
       "0  b3ace094-a17f-11e9-a2fc-000d3a38a36f       Offline       Offline   \n",
       "1  c57d7c4c-a950-11e9-a2fc-000d3a38a36f       Offline   OmniChannel   \n",
       "2  602897a6-cdac-11ea-b31f-000d3a38a36f       Offline       Offline   \n",
       "3  388e4c4e-af86-11e9-a2fc-000d3a38a36f        Mobile        Online   \n",
       "4  80664354-adf0-11eb-8f64-000d3a299ebf       Desktop        Online   \n",
       "\n",
       "  last_order_channel               first_order_date  \\\n",
       "0            Offline  2019-02-23T12:59:17.000+03:00   \n",
       "1            Offline  2019-12-01T16:48:09.000+03:00   \n",
       "2            Offline  2020-07-24T15:49:47.000+03:00   \n",
       "3             Mobile  2018-12-31T07:22:07.000+03:00   \n",
       "4            Desktop  2021-05-05T21:07:02.000+03:00   \n",
       "\n",
       "                 last_order_date         last_order_date_online  \\\n",
       "0  2019-02-23T12:59:17.000+03:00                            NaN   \n",
       "1  2019-12-01T16:48:09.000+03:00                            NaN   \n",
       "2  2020-07-24T15:49:47.000+03:00                            NaN   \n",
       "3  2018-12-31T07:22:07.000+03:00  2018-12-31T07:22:07.000+03:00   \n",
       "4  2021-05-05T22:39:36.000+03:00  2021-05-05T22:39:36.000+03:00   \n",
       "\n",
       "         last_order_date_offline  order_num_total_ever_online  \\\n",
       "0  2019-02-23T12:59:17.000+03:00                          NaN   \n",
       "1  2019-12-01T16:48:09.000+03:00                          NaN   \n",
       "2  2020-07-24T15:49:47.000+03:00                          NaN   \n",
       "3                            NaN                          1.0   \n",
       "4                            NaN                          2.0   \n",
       "\n",
       "   order_num_total_ever_offline  customer_value_total_ever_offline  \\\n",
       "0                           1.0                             212.98   \n",
       "1                           1.0                             199.98   \n",
       "2                           1.0                             140.49   \n",
       "3                           NaN                               0.00   \n",
       "4                           NaN                               0.00   \n",
       "\n",
       "   customer_value_total_ever_online interested_in_categories_12  \\\n",
       "0                              0.00                         NaN   \n",
       "1                              0.00                         NaN   \n",
       "2                              0.00                     [ERKEK]   \n",
       "3                            174.99                         NaN   \n",
       "4                            283.95                          []   \n",
       "\n",
       "  online_product_group_amount_top_name_12 offline_product_group_name_12  \\\n",
       "0                                     NaN                           NaN   \n",
       "1                                     NaN                           NaN   \n",
       "2                                     NaN                         ERKEK   \n",
       "3                                     NaN                           NaN   \n",
       "4                                     NaN                           NaN   \n",
       "\n",
       "  last_order_date_new store_type  \n",
       "0          2019-02-23          A  \n",
       "1          2019-12-01          A  \n",
       "2          2020-07-24          A  \n",
       "3          2018-12-31          A  \n",
       "4          2021-05-05          A  "
      ]
     },
     "execution_count": 5,
     "metadata": {},
     "output_type": "execute_result"
    }
   ],
   "source": [
    "dataframe = pd.read_csv(\"flo100k.csv\", sep=\"|\")\n",
    "dataframe.head()"
   ]
  },
  {
   "cell_type": "code",
   "execution_count": 6,
   "metadata": {},
   "outputs": [],
   "source": [
    "dataframe.head().to_excel(\"output.xlsx\")"
   ]
  },
  {
   "cell_type": "markdown",
   "metadata": {},
   "source": [
    "There is too feature when see datas. When analyze to features, company; \n",
    "* What do customers prefer platform type?\n",
    "* Which channel do customers use on the platform?\n",
    "* What is the customer's budget for shopping?\n",
    "* Which categories do customers shop?\n",
    "finding answers to questions."
   ]
  },
  {
   "cell_type": "markdown",
   "metadata": {},
   "source": [
    "#### Features"
   ]
  },
  {
   "cell_type": "markdown",
   "metadata": {},
   "source": [
    "| Features Name | Data Type | Description |\n",
    "| --- | --- | --- |\n",
    "| **master_id** | string | *Customer id* |\n",
    "| **order_channel** | string | *Which channel used for shopping (Android, ios, Desktop, Mobile)* |\n",
    "| **platform_type** | string | *Shopped platform type. (Online, Offline, Omnichannel)* |\n",
    "| **last_order_channel** | string | *last shopped channel* |\n",
    "| **first_order_date** | date | *First date of shopped* |\n",
    "| **last_order_date** | date | *Last date of shopped* |\n",
    "| **last_order_date_online** | date | *Last date of shopped on online platform* |\n",
    "| **last_order_date_offline** | date | *Last date of shopped on offline platform* |\n",
    "| **order_num_total_ever_online** | int |*Total shopped count on online platform* |\n",
    "| **order_num_total_ever_offline** | int | *Total shopped count on offline platform* |\n",
    "| **customer_value_total_ever_offline** | float | *Total paid for shopped on offline platform* |\n",
    "| **customer_value_total_ever_online** | float | *Total paid for shopped on online platform* |\n",
    "| **interested_in_categories_12** | string | *Shooped which in categories to last 12 months* |\n",
    "| **online_product_group_amount_top_name_12** | string | *Which product group in shopped to last 12 months* |\n",
    "| **offline_product_group_name_12** | string | *Shooped which in categories to last 12 months on offline platform* |\n",
    "| **last_order_date_new** | date | *Last order date* |\n",
    "| **store_stype** | string | *It contains 3 different companies. If customer shops A and B, It writes A,B.* |"
   ]
  },
  {
   "cell_type": "markdown",
   "metadata": {},
   "source": [
    "### Dataframe Schemas for PostgreSQL & Apache Hive"
   ]
  },
  {
   "cell_type": "markdown",
   "metadata": {},
   "source": [
    "![Alt text](schemas.jpg) "
   ]
  },
  {
   "cell_type": "markdown",
   "metadata": {},
   "source": [
    "For these schemas, see to features names and their data types. Data types can be change what sql uses. They are for postgresql and apache hive. Seemed the dataframe structure. From now on, continue with postgresql schema."
   ]
  },
  {
   "cell_type": "markdown",
   "metadata": {},
   "source": [
    "For application what we can do;\n",
    "1. Create table for PostgreSQL schema.\n",
    "2. Importing csv file datas to table.\n",
    "3. Transfer table PostgreSQL to Apache HDFS with Apache Sqoop.\n",
    "4. Transfer table PostgreSQL to Apache Hive with Apache Sqoop.\n",
    "5. Create another Apache Hive table as .orc formatted.\n",
    "6. Analyse data on Apache Hive."
   ]
  },
  {
   "cell_type": "markdown",
   "metadata": {},
   "source": [
    "### Apache: HDFS, Hive, Sqoop and PostgreSQL Application"
   ]
  },
  {
   "cell_type": "markdown",
   "metadata": {},
   "source": [
    "In this chapter, see how to communicate apache tools and postgresql each other. Firstly, create table for dataframe. After, importing csv file to postgresql. Then transfer all table with datas to apache hdfs and hive with apache sqoop. This transferred table is not good efficiency therefore convert table to .orc formatted table. Finally, few data analyses on apache hive."
   ]
  },
  {
   "cell_type": "markdown",
   "metadata": {},
   "source": [
    "#### Creating Part"
   ]
  },
  {
   "cell_type": "markdown",
   "metadata": {},
   "source": [
    "<span style=\"color:red\">create table if not exists </span> customers ( <br />\n",
    "&nbsp;&nbsp;&nbsp;&nbsp;\tmaster_id <span style=\"color:blue\">varchar(100)</span>, <br />\n",
    "&nbsp;&nbsp;&nbsp;&nbsp;\torder_channel <span style=\"color:blue\">varchar(100)</span>, <br />\n",
    "&nbsp;&nbsp;&nbsp;&nbsp;\tplatform_type <span style=\"color:blue\">varchar(25)</span>, <br />\n",
    "&nbsp;&nbsp;&nbsp;&nbsp;\tlast_order_channel <span style=\"color:blue\">varchar(25)</span>, <br />\n",
    "&nbsp;&nbsp;&nbsp;&nbsp;\tfirst_order_date <span style=\"color:blue\">varchar(75)</span>, <br />\n",
    "&nbsp;&nbsp;&nbsp;&nbsp;\tlast_order_date <span style=\"color:blue\">varchar(75)</span>, <br />\n",
    "&nbsp;&nbsp;&nbsp;&nbsp;\tlast_order_date_online <span style=\"color:blue\">varchar(75)</span>, <br />\n",
    "&nbsp;&nbsp;&nbsp;&nbsp;\tlast_order_date_offline <span style=\"color:blue\">varchar(75)</span>, <br />\n",
    "&nbsp;&nbsp;&nbsp;&nbsp;\torder_num_total_ever_online <span style=\"color:red\">float</span>, <br />\n",
    "&nbsp;&nbsp;&nbsp;&nbsp;\torder_num_total_ever_offline <span style=\"color:red\">float</span>, <br />\n",
    "&nbsp;&nbsp;&nbsp;&nbsp;\tcustomer_value_total_ever_offline <span style=\"color:red\">float</span>, <br />\n",
    "&nbsp;&nbsp;&nbsp;&nbsp;\tcustomer_value_total_ever_online <span style=\"color:red\">float</span>,  <br />\n",
    "&nbsp;&nbsp;&nbsp;&nbsp;\tinterested_in_categories_12 <span style=\"color:blue\">varchar(75)</span>, <br />\n",
    "&nbsp;&nbsp;&nbsp;&nbsp;\tonline_product_group_amount_top_name_12 <span style=\"color:blue\">varchar(75)</span>, <br />\n",
    "&nbsp;&nbsp;&nbsp;&nbsp;\toffline_product_group_name_12 <span style=\"color:blue\">varchar(75)</span>, <br />\n",
    "&nbsp;&nbsp;&nbsp;&nbsp;\tlast_order_date_new <span style=\"color:blue\">varchar(75)</span>, <br />\n",
    "&nbsp;&nbsp;&nbsp;&nbsp;\tstore_type <span style=\"color:blue\">varchar(50)</span> <br />\n",
    ");"
   ]
  },
  {
   "cell_type": "markdown",
   "metadata": {},
   "source": [
    "On the above, create table without data. That's means setting the column name and its types and it is ready for upcoming datas."
   ]
  },
  {
   "cell_type": "markdown",
   "metadata": {},
   "source": [
    "#### Importing Part"
   ]
  },
  {
   "cell_type": "markdown",
   "metadata": {},
   "source": [
    "```\n",
    "psql -d traindb -c \"\\copy customers from 'flo100k.csv' DELIMITERS '|' CSV HEADER;\"\n",
    "```"
   ]
  },
  {
   "cell_type": "markdown",
   "metadata": {},
   "source": [
    "It is console command. Postgre uses copy command for importing csv files to table. In the command firstly call to postgresql and then selecting which database and sql command."
   ]
  },
  {
   "cell_type": "markdown",
   "metadata": {},
   "source": [
    "#### Transportation Part"
   ]
  },
  {
   "cell_type": "markdown",
   "metadata": {},
   "source": [
    "`\n",
    "sqoop import --connect jdbc:postgresql://localhost:5432/traindb --driver org.postgresql.Driver --username train --password-file file:///home/train/.sqoop.password --table customers --split-by master_id --hive-import --create-hive-table --hive-table test1.customer --target-dir /tmp/c\n",
    "`"
   ]
  },
  {
   "cell_type": "markdown",
   "metadata": {},
   "source": [
    "On the above command, sqoop connected to postgresql server. After that give driver, username, password, which table in postgresql, which separator column and hive commands. For hive commands, it is new table so that used to create hive table. Finally create temp file for transportation."
   ]
  },
  {
   "cell_type": "markdown",
   "metadata": {},
   "source": [
    "`SELECT * FROM customer limit 5;`"
   ]
  },
  {
   "cell_type": "markdown",
   "metadata": {},
   "source": [
    "master_id                           |order_channel|platform_type|last_order_channel|first_order_date             |last_order_date              |last_order_date_online       |last_order_date_offline      |order_num_total_ever_online|order_num_total_ever_offline|customer_value_total_ever_offline|customer_value_total_ever_online|interested_in_categories_12|online_product_group_amount_top_name_12|offline_product_group_name_12|last_order_date_new|store_type|\n",
    "------------------------------------|-------------|-------------|------------------|-----------------------------|-----------------------------|-----------------------------|-----------------------------|---------------------------|----------------------------|---------------------------------|--------------------------------|---------------------------|---------------------------------------|-----------------------------|-------------------|----------|\n",
    "b3ace094-a17f-11e9-a2fc-000d3a38a36f|Offline      |Offline      |Offline           |2019-02-23T12:59:17.000+03:00|2019-02-23T12:59:17.000+03:00|null                         |2019-02-23T12:59:17.000+03:00|                           |                         1.0|                           212.98|                             0.0|null                       |null                                   |null                         |2019-02-23         |A         |\n",
    "c57d7c4c-a950-11e9-a2fc-000d3a38a36f|Offline      |OmniChannel  |Offline           |2019-12-01T16:48:09.000+03:00|2019-12-01T16:48:09.000+03:00|null                         |2019-12-01T16:48:09.000+03:00|                           |                         1.0|                           199.98|                             0.0|null                       |null                                   |null                         |2019-12-01         |A         |\n",
    "602897a6-cdac-11ea-b31f-000d3a38a36f|Offline      |Offline      |Offline           |2020-07-24T15:49:47.000+03:00|2020-07-24T15:49:47.000+03:00|null                         |2020-07-24T15:49:47.000+03:00|                           |                         1.0|                           140.49|                             0.0|[ERKEK]                    |null                                   |ERKEK                        |2020-07-24         |A         |\n",
    "388e4c4e-af86-11e9-a2fc-000d3a38a36f|Mobile       |Online       |Mobile            |2018-12-31T07:22:07.000+03:00|2018-12-31T07:22:07.000+03:00|2018-12-31T07:22:07.000+03:00|null                         |                        1.0|                            |                              0.0|                          174.99|null                       |null                                   |null                         |2018-12-31         |A         |\n",
    "80664354-adf0-11eb-8f64-000d3a299ebf|Desktop      |Online       |Desktop           |2021-05-05T21:07:02.000+03:00|2021-05-05T22:39:36.000+03:00|2021-05-05T22:39:36.000+03:00|null                         |                        2.0|                            |                              0.0|                          283.95|[]                         |null                                   |null                         |2021-05-05         |A         |"
   ]
  },
  {
   "cell_type": "markdown",
   "metadata": {},
   "source": [
    "As seen, transportation was successed."
   ]
  },
  {
   "cell_type": "markdown",
   "metadata": {},
   "source": [
    "#### Optimization Part"
   ]
  },
  {
   "cell_type": "markdown",
   "metadata": {},
   "source": [
    "In here, optimize to apache hive. That's mean apache hive gives the high performance for data format. The best performance is .orc formatted table. Given command below create table from created table with file format."
   ]
  },
  {
   "cell_type": "markdown",
   "metadata": {},
   "source": [
    "`CREATE TABLE customer_orc stored as orc as SELECT * FROM test1.customer;`"
   ]
  },
  {
   "cell_type": "markdown",
   "metadata": {},
   "source": [
    "After the conversion, table storage decreases fastly."
   ]
  },
  {
   "cell_type": "markdown",
   "metadata": {},
   "source": [
    "`hdfs dfs -du -h /user/hive/warehouse/test1.db | grep customer`"
   ]
  },
  {
   "cell_type": "markdown",
   "metadata": {},
   "source": [
    "| Storage | File |\n",
    "| --- | --- |\n",
    "| 20.1 M | /user/hive/warehouse/test1.db/customer |\n",
    "| 4.3 M | /user/hive/warehouse/test1.db/customer_orc |"
   ]
  },
  {
   "cell_type": "markdown",
   "metadata": {},
   "source": [
    "#### Data Analyses Part"
   ]
  },
  {
   "cell_type": "markdown",
   "metadata": {},
   "source": [
    "It is basic queries but important. First is given us to total count for the store type, second is given us to total count for the order channel."
   ]
  },
  {
   "cell_type": "markdown",
   "metadata": {},
   "source": [
    "1)"
   ]
  },
  {
   "cell_type": "markdown",
   "metadata": {},
   "source": [
    "`SELECT store_type , COUNT(*) as total_count FROM customer_orc \n",
    "GROUP BY store_type\n",
    "ORDER BY total_count DESC;`"
   ]
  },
  {
   "cell_type": "markdown",
   "metadata": {},
   "source": [
    "store_type|total_count|\n",
    "----------|-----------|\n",
    "A         |      89225|\n",
    "A,B       |       8498|\n",
    "B         |       1491|\n",
    "A,C       |        702|\n",
    "A,B,C     |         75|\n",
    "B,C       |         10|"
   ]
  },
  {
   "cell_type": "markdown",
   "metadata": {},
   "source": [
    "2."
   ]
  },
  {
   "cell_type": "markdown",
   "metadata": {},
   "source": [
    "`SELECT order_channel, COUNT(*) as total_count FROM customer_orc\n",
    "GROUP BY order_channel \n",
    "ORDER BY total_count DESC;`"
   ]
  },
  {
   "cell_type": "markdown",
   "metadata": {},
   "source": [
    "order_channel|total_count|\n",
    "-------------|-----------|\n",
    "Offline      |      70785|\n",
    "Android App  |      11989|\n",
    "Mobile       |       8512|\n",
    "Desktop      |       4751|\n",
    "Ios App      |       3964|"
   ]
  },
  {
   "cell_type": "markdown",
   "metadata": {},
   "source": [
    "### Conclusion"
   ]
  },
  {
   "cell_type": "markdown",
   "metadata": {},
   "source": [
    "Interested in Apache HDFS, Hive, Sqoop. It is all how to use them each other. Project is for being ready for real project. Project is maden for who want to be data engineer."
   ]
  }
 ],
 "metadata": {
  "kernelspec": {
   "display_name": "Python 3.10.0 64-bit",
   "language": "python",
   "name": "python3"
  },
  "language_info": {
   "codemirror_mode": {
    "name": "ipython",
    "version": 3
   },
   "file_extension": ".py",
   "mimetype": "text/x-python",
   "name": "python",
   "nbconvert_exporter": "python",
   "pygments_lexer": "ipython3",
   "version": "3.10.0"
  },
  "orig_nbformat": 4,
  "vscode": {
   "interpreter": {
    "hash": "a82f5c6bcc522c8fbcda74bfdd65d0080b96ee61c66e4e6f166892b35c330c9e"
   }
  }
 },
 "nbformat": 4,
 "nbformat_minor": 2
}
